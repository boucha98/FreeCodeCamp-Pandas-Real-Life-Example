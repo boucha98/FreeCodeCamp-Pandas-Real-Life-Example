{
  "nbformat": 4,
  "nbformat_minor": 0,
  "metadata": {
    "kernelspec": {
      "display_name": "Python 3",
      "language": "python",
      "name": "python3"
    },
    "language_info": {
      "codemirror_mode": {
        "name": "ipython",
        "version": 3
      },
      "file_extension": ".py",
      "mimetype": "text/x-python",
      "name": "python",
      "nbconvert_exporter": "python",
      "pygments_lexer": "ipython3",
      "version": "3.6.8"
    },
    "colab": {
      "name": "Exercises_2.ipynb",
      "provenance": []
    }
  },
  "cells": [
    {
      "cell_type": "markdown",
      "metadata": {
        "id": "T4jNGd9Ph2Db"
      },
      "source": [
        "![rmotr](https://user-images.githubusercontent.com/7065401/52071918-bda15380-2562-11e9-828c-7f95297e4a82.png)\n",
        "<hr style=\"margin-bottom: 40px;\">\n",
        "\n",
        "# Exercises\n",
        "## The Sakila Database\n",
        "\n",
        "One of the best example databases out there is the <a href=\"https://dev.mysql.com/doc/sakila/en/\">Sakila Database</a>, which was originally created by MySQL and has been open sourced under the terms of the BSD License.\n",
        "\n",
        "The Sakila database is a nicely normalised schema modelling a DVD rental store, featuring things like films, actors, film-actor relationships, and a central inventory table that connects films, stores, and rentals.\n",
        "\n",
        "<img width=\"1200px\" src=\"https://user-images.githubusercontent.com/7065401/58504872-fa243b00-8161-11e9-85ed-4b7d8d7ce9f7.png\" />"
      ]
    },
    {
      "cell_type": "markdown",
      "metadata": {
        "id": "1S1Nm7Dxh2Df"
      },
      "source": [
        "![purple-divider](https://user-images.githubusercontent.com/7065401/52071927-c1cd7100-2562-11e9-908a-dde91ba14e59.png)\n",
        "\n",
        "## Hands on! "
      ]
    },
    {
      "cell_type": "code",
      "metadata": {
        "id": "9D0AegDOh2Dg"
      },
      "source": [
        "import numpy as np\n",
        "import pandas as pd\n",
        "import matplotlib.pyplot as plt\n",
        "import sqlite3\n",
        "\n",
        "%matplotlib inline"
      ],
      "execution_count": 1,
      "outputs": []
    },
    {
      "cell_type": "code",
      "metadata": {
        "id": "7AzpNtHah2Dh"
      },
      "source": [
        "conn = sqlite3.connect('sample_data/sakila.db')\n",
        "\n",
        "df = pd.read_sql('''\n",
        "    SELECT\n",
        "        rental.rental_id, rental.rental_date, rental.return_date,\n",
        "        customer.last_name AS customer_lastname,\n",
        "        store.store_id,\n",
        "        city.city AS rental_store_city,\n",
        "        film.title AS film_title, film.rental_duration AS film_rental_duration,\n",
        "        film.rental_rate AS film_rental_rate, film.replacement_cost AS film_replacement_cost,\n",
        "        film.rating AS film_rating\n",
        "    FROM rental\n",
        "    INNER JOIN customer ON rental.customer_id == customer.customer_id\n",
        "    INNER JOIN inventory ON rental.inventory_id == inventory.inventory_id\n",
        "    INNER JOIN store ON inventory.store_id == store.store_id\n",
        "    INNER JOIN address ON store.address_id == address.address_id\n",
        "    INNER JOIN city ON address.city_id == city.city_id\n",
        "    INNER JOIN film ON inventory.film_id == film.film_id\n",
        "    ;\n",
        "''', conn, index_col='rental_id', parse_dates=['rental_date', 'return_date'])"
      ],
      "execution_count": 2,
      "outputs": []
    },
    {
      "cell_type": "code",
      "metadata": {
        "id": "2oiyR2zth2Di",
        "outputId": "5e2e4b6a-aabb-43dc-d933-acf677714854",
        "colab": {
          "base_uri": "https://localhost:8080/",
          "height": 340
        }
      },
      "source": [
        "df.head()"
      ],
      "execution_count": 3,
      "outputs": [
        {
          "output_type": "execute_result",
          "data": {
            "text/html": [
              "<div>\n",
              "<style scoped>\n",
              "    .dataframe tbody tr th:only-of-type {\n",
              "        vertical-align: middle;\n",
              "    }\n",
              "\n",
              "    .dataframe tbody tr th {\n",
              "        vertical-align: top;\n",
              "    }\n",
              "\n",
              "    .dataframe thead th {\n",
              "        text-align: right;\n",
              "    }\n",
              "</style>\n",
              "<table border=\"1\" class=\"dataframe\">\n",
              "  <thead>\n",
              "    <tr style=\"text-align: right;\">\n",
              "      <th></th>\n",
              "      <th>rental_date</th>\n",
              "      <th>return_date</th>\n",
              "      <th>customer_lastname</th>\n",
              "      <th>store_id</th>\n",
              "      <th>rental_store_city</th>\n",
              "      <th>film_title</th>\n",
              "      <th>film_rental_duration</th>\n",
              "      <th>film_rental_rate</th>\n",
              "      <th>film_replacement_cost</th>\n",
              "      <th>film_rating</th>\n",
              "    </tr>\n",
              "    <tr>\n",
              "      <th>rental_id</th>\n",
              "      <th></th>\n",
              "      <th></th>\n",
              "      <th></th>\n",
              "      <th></th>\n",
              "      <th></th>\n",
              "      <th></th>\n",
              "      <th></th>\n",
              "      <th></th>\n",
              "      <th></th>\n",
              "      <th></th>\n",
              "    </tr>\n",
              "  </thead>\n",
              "  <tbody>\n",
              "    <tr>\n",
              "      <th>1</th>\n",
              "      <td>2005-05-24 22:53:30</td>\n",
              "      <td>2005-05-26 22:04:30</td>\n",
              "      <td>HUNTER</td>\n",
              "      <td>1</td>\n",
              "      <td>Lethbridge</td>\n",
              "      <td>BLANKET BEVERLY</td>\n",
              "      <td>7</td>\n",
              "      <td>2.99</td>\n",
              "      <td>21.99</td>\n",
              "      <td>G</td>\n",
              "    </tr>\n",
              "    <tr>\n",
              "      <th>2</th>\n",
              "      <td>2005-05-24 22:54:33</td>\n",
              "      <td>2005-05-28 19:40:33</td>\n",
              "      <td>COLLAZO</td>\n",
              "      <td>2</td>\n",
              "      <td>Woodridge</td>\n",
              "      <td>FREAKY POCUS</td>\n",
              "      <td>7</td>\n",
              "      <td>2.99</td>\n",
              "      <td>16.99</td>\n",
              "      <td>R</td>\n",
              "    </tr>\n",
              "    <tr>\n",
              "      <th>3</th>\n",
              "      <td>2005-05-24 23:03:39</td>\n",
              "      <td>2005-06-01 22:12:39</td>\n",
              "      <td>MURRELL</td>\n",
              "      <td>2</td>\n",
              "      <td>Woodridge</td>\n",
              "      <td>GRADUATE LORD</td>\n",
              "      <td>7</td>\n",
              "      <td>2.99</td>\n",
              "      <td>14.99</td>\n",
              "      <td>G</td>\n",
              "    </tr>\n",
              "    <tr>\n",
              "      <th>4</th>\n",
              "      <td>2005-05-24 23:04:41</td>\n",
              "      <td>2005-06-03 01:43:41</td>\n",
              "      <td>PURDY</td>\n",
              "      <td>1</td>\n",
              "      <td>Lethbridge</td>\n",
              "      <td>LOVE SUICIDES</td>\n",
              "      <td>6</td>\n",
              "      <td>0.99</td>\n",
              "      <td>21.99</td>\n",
              "      <td>R</td>\n",
              "    </tr>\n",
              "    <tr>\n",
              "      <th>5</th>\n",
              "      <td>2005-05-24 23:05:21</td>\n",
              "      <td>2005-06-02 04:33:21</td>\n",
              "      <td>HANSEN</td>\n",
              "      <td>2</td>\n",
              "      <td>Woodridge</td>\n",
              "      <td>IDOLS SNATCHERS</td>\n",
              "      <td>5</td>\n",
              "      <td>2.99</td>\n",
              "      <td>29.99</td>\n",
              "      <td>NC-17</td>\n",
              "    </tr>\n",
              "  </tbody>\n",
              "</table>\n",
              "</div>"
            ],
            "text/plain": [
              "                  rental_date  ... film_rating\n",
              "rental_id                      ...            \n",
              "1         2005-05-24 22:53:30  ...           G\n",
              "2         2005-05-24 22:54:33  ...           R\n",
              "3         2005-05-24 23:03:39  ...           G\n",
              "4         2005-05-24 23:04:41  ...           R\n",
              "5         2005-05-24 23:05:21  ...       NC-17\n",
              "\n",
              "[5 rows x 10 columns]"
            ]
          },
          "metadata": {},
          "execution_count": 3
        }
      ]
    },
    {
      "cell_type": "markdown",
      "metadata": {
        "id": "CHPG_wBNh2Di"
      },
      "source": [
        "![green-divider](https://user-images.githubusercontent.com/7065401/52071924-c003ad80-2562-11e9-8297-1c6595f8a7ff.png)\n",
        "\n",
        "### What's the mean of `film_rental_duration`?"
      ]
    },
    {
      "cell_type": "code",
      "metadata": {
        "id": "CLtFNdb4h2Dj",
        "outputId": "880b5500-075f-430f-cba7-643ed1e717f3",
        "colab": {
          "base_uri": "https://localhost:8080/"
        }
      },
      "source": [
        "# your code goes here\n",
        "df['film_rental_duration'].mean()"
      ],
      "execution_count": 4,
      "outputs": [
        {
          "output_type": "execute_result",
          "data": {
            "text/plain": [
              "4.935489902767389"
            ]
          },
          "metadata": {},
          "execution_count": 4
        }
      ]
    },
    {
      "cell_type": "code",
      "metadata": {
        "cell_type": "solution",
        "id": "Ug9WYGHth2Dk"
      },
      "source": [
        "df['film_rental_duration'].mean()"
      ],
      "execution_count": null,
      "outputs": []
    },
    {
      "cell_type": "markdown",
      "metadata": {
        "id": "dG73v6f2h2Dl"
      },
      "source": [
        "![green-divider](https://user-images.githubusercontent.com/7065401/52071924-c003ad80-2562-11e9-8297-1c6595f8a7ff.png)\n",
        "\n",
        "### What's the most common rental duration?\n",
        "\n",
        "Show a <b>bar plot</b> with all the durations."
      ]
    },
    {
      "cell_type": "code",
      "metadata": {
        "id": "q2wVs0wbh2Dl",
        "outputId": "5cb0499a-fdf8-4c9f-c1fa-398c06defe45",
        "colab": {
          "base_uri": "https://localhost:8080/",
          "height": 279
        }
      },
      "source": [
        "# your code goes here\n",
        "df['film_rental_duration'].value_counts().plot(kind='bar')"
      ],
      "execution_count": 5,
      "outputs": [
        {
          "output_type": "execute_result",
          "data": {
            "text/plain": [
              "<matplotlib.axes._subplots.AxesSubplot at 0x7f50f7292dd0>"
            ]
          },
          "metadata": {},
          "execution_count": 5
        },
        {
          "output_type": "display_data",
          "data": {
            "image/png": "[encoded data removed]",
            "text/plain": [
              "<Figure size 432x288 with 1 Axes>"
            ]
          },
          "metadata": {
            "needs_background": "light"
          }
        }
      ]
    },
    {
      "cell_type": "code",
      "metadata": {
        "cell_type": "solution",
        "id": "VOa6AwZch2Dm"
      },
      "source": [
        "df['film_rental_duration'].value_counts().plot(kind='bar', figsize=(14,6))"
      ],
      "execution_count": null,
      "outputs": []
    },
    {
      "cell_type": "markdown",
      "metadata": {
        "id": "ZR31Cmgrh2Dm"
      },
      "source": [
        "![green-divider](https://user-images.githubusercontent.com/7065401/52071924-c003ad80-2562-11e9-8297-1c6595f8a7ff.png)\n",
        "\n",
        "### What is the most common rental rate?\n",
        "\n",
        "- Show a <b>pie plot</b> with all possible rental rates.\n",
        "- Show a <b>bar plot</b> with all possible rental rates.\n",
        "- Which plot you think fits the best in this case? Why?"
      ]
    },
    {
      "cell_type": "code",
      "metadata": {
        "id": "bCMRx32-h2Dn",
        "outputId": "3b499ac4-56a1-4d85-d839-118adca6cc79",
        "colab": {
          "base_uri": "https://localhost:8080/",
          "height": 265
        }
      },
      "source": [
        "# your code goes here\n",
        "df['film_rental_rate'].value_counts().plot(kind='pie')"
      ],
      "execution_count": 32,
      "outputs": [
        {
          "output_type": "execute_result",
          "data": {
            "text/plain": [
              "<matplotlib.axes._subplots.AxesSubplot at 0x7f22a3a0bd10>"
            ]
          },
          "metadata": {},
          "execution_count": 32
        },
        {
          "output_type": "display_data",
          "data": {
            "image/png": "[encoded data removed]",
            "text/plain": [
              "<Figure size 432x288 with 1 Axes>"
            ]
          },
          "metadata": {}
        }
      ]
    },
    {
      "cell_type": "code",
      "metadata": {
        "cell_type": "solution",
        "id": "s7qbtuydh2Dn"
      },
      "source": [
        "df['film_rental_rate'].value_counts().plot(kind='pie', figsize=(6,6))"
      ],
      "execution_count": null,
      "outputs": []
    },
    {
      "cell_type": "code",
      "metadata": {
        "id": "ealYe_7wh2Do",
        "outputId": "8790750c-6269-4772-9a2d-ad0efc87aab4",
        "colab": {
          "base_uri": "https://localhost:8080/",
          "height": 295
        }
      },
      "source": [
        "# your code goes here\n",
        "df['film_rental_rate'].value_counts().plot(kind='bar')"
      ],
      "execution_count": 33,
      "outputs": [
        {
          "output_type": "execute_result",
          "data": {
            "text/plain": [
              "<matplotlib.axes._subplots.AxesSubplot at 0x7f22a38e5050>"
            ]
          },
          "metadata": {},
          "execution_count": 33
        },
        {
          "output_type": "display_data",
          "data": {
            "image/png": "[encoded data removed]",
            "text/plain": [
              "<Figure size 432x288 with 1 Axes>"
            ]
          },
          "metadata": {
            "needs_background": "light"
          }
        }
      ]
    },
    {
      "cell_type": "code",
      "metadata": {
        "cell_type": "solution",
        "id": "MJKV-lqRh2Do"
      },
      "source": [
        "df['film_rental_rate'].value_counts().plot(kind='bar', figsize=(14,6))"
      ],
      "execution_count": null,
      "outputs": []
    },
    {
      "cell_type": "markdown",
      "metadata": {
        "id": "pOlsnagdh2Do"
      },
      "source": [
        "![green-divider](https://user-images.githubusercontent.com/7065401/52071924-c003ad80-2562-11e9-8297-1c6595f8a7ff.png)\n",
        "\n",
        "### How is the replacement cost distributed?\n",
        "\n",
        "- Show a <b>box plot</b> of the replacement costs.\n",
        "- Show a <b>density plot</b> of the replacement costs.\n",
        "- Add a red line on the <b>mean</b>.\n",
        "- Add a green line on the median <b>median</b>."
      ]
    },
    {
      "cell_type": "code",
      "metadata": {
        "id": "gd5aVoJKh2Do",
        "outputId": "534c351f-1df3-4739-adec-9451c1d133fb",
        "colab": {
          "base_uri": "https://localhost:8080/",
          "height": 283
        }
      },
      "source": [
        "# your code goes here\n",
        "df['film_replacement_cost'].plot(kind='box')"
      ],
      "execution_count": 30,
      "outputs": [
        {
          "output_type": "execute_result",
          "data": {
            "text/plain": [
              "<matplotlib.axes._subplots.AxesSubplot at 0x7f22a39a1f50>"
            ]
          },
          "metadata": {},
          "execution_count": 30
        },
        {
          "output_type": "display_data",
          "data": {
            "image/png": "[encoded data removed]",
            "text/plain": [
              "<Figure size 432x288 with 1 Axes>"
            ]
          },
          "metadata": {
            "needs_background": "light"
          }
        }
      ]
    },
    {
      "cell_type": "code",
      "metadata": {
        "cell_type": "solution",
        "id": "_wdxN_zfh2Dp"
      },
      "source": [
        "df['film_replacement_cost'].plot(kind='box', vert=False, figsize=(14,6))"
      ],
      "execution_count": null,
      "outputs": []
    },
    {
      "cell_type": "code",
      "metadata": {
        "id": "cEDID-foh2Dp",
        "outputId": "7c627b72-7eda-4cf8-9073-2a8bb58f7dd0",
        "colab": {
          "base_uri": "https://localhost:8080/",
          "height": 283
        }
      },
      "source": [
        "# your code goes here\n",
        "ax = df['film_replacement_cost'].plot(kind='density')\n",
        "ax.axvline(df['film_replacement_cost'].mean(), color='green')\n",
        "ax.axvline(df['film_replacement_cost'].median(), color='red')"
      ],
      "execution_count": 31,
      "outputs": [
        {
          "output_type": "execute_result",
          "data": {
            "text/plain": [
              "<matplotlib.lines.Line2D at 0x7f22a5089690>"
            ]
          },
          "metadata": {},
          "execution_count": 31
        },
        {
          "output_type": "display_data",
          "data": {
            "image/png": "[encoded data removed]",
            "text/plain": [
              "<Figure size 432x288 with 1 Axes>"
            ]
          },
          "metadata": {
            "needs_background": "light"
          }
        }
      ]
    },
    {
      "cell_type": "code",
      "metadata": {
        "cell_type": "solution",
        "id": "2rGoF_sVh2Dp"
      },
      "source": [
        "ax = df['film_replacement_cost'].plot(kind='density', figsize=(14,6))\n",
        "ax.axvline(df['film_replacement_cost'].mean(), color='red')\n",
        "ax.axvline(df['film_replacement_cost'].median(), color='green')"
      ],
      "execution_count": null,
      "outputs": []
    },
    {
      "cell_type": "markdown",
      "metadata": {
        "id": "5cdV0QWvh2Dq"
      },
      "source": [
        "![green-divider](https://user-images.githubusercontent.com/7065401/52071924-c003ad80-2562-11e9-8297-1c6595f8a7ff.png)\n",
        "\n",
        "### How many films of each rating do we have?\n",
        "\n",
        "- Show the raw count of each film rating.\n",
        "- Show a <b>bar plot</b> with all possible film ratings."
      ]
    },
    {
      "cell_type": "code",
      "metadata": {
        "id": "-jaJHT2Vh2Dq",
        "outputId": "f189eacc-f747-4483-b38b-1a2962267a2e",
        "colab": {
          "base_uri": "https://localhost:8080/"
        }
      },
      "source": [
        "# your code goes here\n",
        "df['film_rating'].value_counts()"
      ],
      "execution_count": 27,
      "outputs": [
        {
          "output_type": "execute_result",
          "data": {
            "text/plain": [
              "PG-13    3585\n",
              "NC-17    3293\n",
              "PG       3212\n",
              "R        3181\n",
              "G        2773\n",
              "Name: film_rating, dtype: int64"
            ]
          },
          "metadata": {},
          "execution_count": 27
        }
      ]
    },
    {
      "cell_type": "code",
      "metadata": {
        "cell_type": "solution",
        "id": "1PaPl8gph2Dq"
      },
      "source": [
        "df['film_rating'].value_counts()"
      ],
      "execution_count": null,
      "outputs": []
    },
    {
      "cell_type": "code",
      "metadata": {
        "id": "d8I4a-ahh2Dq",
        "outputId": "12c71b19-3e18-4aac-ac50-8db7926e99ea",
        "colab": {
          "base_uri": "https://localhost:8080/",
          "height": 303
        }
      },
      "source": [
        "# your code goes here\n",
        "df['film_rating'].value_counts().plot(kind='bar')"
      ],
      "execution_count": 28,
      "outputs": [
        {
          "output_type": "execute_result",
          "data": {
            "text/plain": [
              "<matplotlib.axes._subplots.AxesSubplot at 0x7f22a3a44a50>"
            ]
          },
          "metadata": {},
          "execution_count": 28
        },
        {
          "output_type": "display_data",
          "data": {
            "image/png": "[encoded data removed]",
            "text/plain": [
              "<Figure size 432x288 with 1 Axes>"
            ]
          },
          "metadata": {
            "needs_background": "light"
          }
        }
      ]
    },
    {
      "cell_type": "code",
      "metadata": {
        "cell_type": "solution",
        "id": "TTz89XZDh2Dr"
      },
      "source": [
        "df['film_rating'].value_counts().plot(kind='bar', figsize=(14,6))"
      ],
      "execution_count": null,
      "outputs": []
    },
    {
      "cell_type": "markdown",
      "metadata": {
        "id": "PD2hdT_Jh2Dr"
      },
      "source": [
        "![green-divider](https://user-images.githubusercontent.com/7065401/52071924-c003ad80-2562-11e9-8297-1c6595f8a7ff.png)\n",
        "\n",
        "### Does the film replacement cost vary depending on film rating?\n",
        "\n",
        "In the United States, film classification is a voluntary process with the ratings issued by the Motion Picture Association of America (MPAA) via the Classification and Rating Administration (CARA).\n",
        "\n",
        "- G (General Audiences): All Ages are Admitted.\n",
        "- PG (Parental Guidance Suggested): Some Material May Not Be Suitable for Children.\n",
        "- PG-13 (Parents Strongly Cautioned): Some Material May Be Inappropriate for Children Under 13.\n",
        "- R (Restricted): Under 17 Requires Accompanying Parent or Adult Guardian.\n",
        "- NC-17 (Adults Only): No One 17 and Under Admitted.\n",
        "\n",
        "Show a <b>grouped box plot</b> per film rating with the film replacement costs."
      ]
    },
    {
      "cell_type": "code",
      "metadata": {
        "id": "vA-m8F74h2Dr",
        "outputId": "f6e5e542-5a39-4c55-d566-79a340aab9c6",
        "colab": {
          "base_uri": "https://localhost:8080/",
          "height": 492
        }
      },
      "source": [
        "# your code goes here\n",
        "df[['film_replacement_cost', 'film_rating']].boxplot(by='film_rating', figsize=(14,6))"
      ],
      "execution_count": 26,
      "outputs": [
        {
          "output_type": "stream",
          "name": "stderr",
          "text": [
            "/usr/local/lib/python3.7/dist-packages/numpy/core/_asarray.py:83: VisibleDeprecationWarning: Creating an ndarray from ragged nested sequences (which is a list-or-tuple of lists-or-tuples-or ndarrays with different lengths or shapes) is deprecated. If you meant to do this, you must specify 'dtype=object' when creating the ndarray\n",
            "  return array(a, dtype, copy=False, order=order)\n"
          ]
        },
        {
          "output_type": "execute_result",
          "data": {
            "text/plain": [
              "<matplotlib.axes._subplots.AxesSubplot at 0x7f22a3ca8a90>"
            ]
          },
          "metadata": {},
          "execution_count": 26
        },
        {
          "output_type": "display_data",
          "data": {
            "image/png": "[encoded data removed]",
            "text/plain": [
              "<Figure size 1008x432 with 1 Axes>"
            ]
          },
          "metadata": {
            "needs_background": "light"
          }
        }
      ]
    },
    {
      "cell_type": "code",
      "metadata": {
        "cell_type": "solution",
        "id": "zeTnhG8yh2Dr"
      },
      "source": [
        "df[['film_replacement_cost', 'film_rating']].boxplot(by='film_rating', figsize=(14,6))"
      ],
      "execution_count": null,
      "outputs": []
    },
    {
      "cell_type": "markdown",
      "metadata": {
        "id": "UeeRkqf1h2Ds"
      },
      "source": [
        "![green-divider](https://user-images.githubusercontent.com/7065401/52071924-c003ad80-2562-11e9-8297-1c6595f8a7ff.png)\n",
        "\n",
        "### Add and calculate a new `rental_days` column\n",
        "\n",
        "This numeric column should have the count of days between `rental_date` and `return_date`."
      ]
    },
    {
      "cell_type": "code",
      "metadata": {
        "id": "zahUK8pxh2Ds",
        "outputId": "044eee25-f7bf-4412-b748-ba38c088ca2f",
        "colab": {
          "base_uri": "https://localhost:8080/"
        }
      },
      "source": [
        "# your code goes here\n",
        "df['rental_days'] = df[['rental_date', 'return_date']].apply(lambda x: (x[1] - x[0]).days, axis=1)\n",
        "df['rental_days'].head()"
      ],
      "execution_count": 25,
      "outputs": [
        {
          "output_type": "execute_result",
          "data": {
            "text/plain": [
              "rental_id\n",
              "1    1.0\n",
              "2    3.0\n",
              "3    7.0\n",
              "4    9.0\n",
              "5    8.0\n",
              "Name: rental_days, dtype: float64"
            ]
          },
          "metadata": {},
          "execution_count": 25
        }
      ]
    },
    {
      "cell_type": "code",
      "metadata": {
        "cell_type": "solution",
        "id": "G1IhiDXuh2Ds",
        "outputId": "605320f6-c694-43cd-fb4e-11235ae0b996",
        "colab": {
          "base_uri": "https://localhost:8080/"
        }
      },
      "source": [
        "df['rental_days'] = df[['rental_date', 'return_date']].apply(lambda x: (x[1] - x[0]).days, axis=1)\n",
        "\n",
        "df['rental_days'].head()"
      ],
      "execution_count": 14,
      "outputs": [
        {
          "output_type": "execute_result",
          "data": {
            "text/plain": [
              "rental_id\n",
              "1    1.0\n",
              "2    3.0\n",
              "3    7.0\n",
              "4    9.0\n",
              "5    8.0\n",
              "Name: rental_days, dtype: float64"
            ]
          },
          "metadata": {},
          "execution_count": 14
        }
      ]
    },
    {
      "cell_type": "markdown",
      "metadata": {
        "id": "2qyETmFIh2Ds"
      },
      "source": [
        "![green-divider](https://user-images.githubusercontent.com/7065401/52071924-c003ad80-2562-11e9-8297-1c6595f8a7ff.png)\n",
        "\n",
        "### Analyze the distribution of `rental_days`\n",
        "\n",
        "- Calculate the mean of `rental_days`.\n",
        "- Show a <b>density (KDE)</b> of `rental_days`."
      ]
    },
    {
      "cell_type": "code",
      "metadata": {
        "id": "b5tTd53Ah2Ds",
        "outputId": "96583ae4-ec1d-4877-cf1c-b3e918ff8630",
        "colab": {
          "base_uri": "https://localhost:8080/"
        }
      },
      "source": [
        "# your code goes here\n",
        "df['rental_days'].mean()"
      ],
      "execution_count": 7,
      "outputs": [
        {
          "output_type": "execute_result",
          "data": {
            "text/plain": [
              "4.525944139713763"
            ]
          },
          "metadata": {},
          "execution_count": 7
        }
      ]
    },
    {
      "cell_type": "code",
      "metadata": {
        "cell_type": "solution",
        "id": "v6n1lCURh2Dt"
      },
      "source": [
        "df['rental_days'].mean()"
      ],
      "execution_count": null,
      "outputs": []
    },
    {
      "cell_type": "code",
      "metadata": {
        "id": "2qOlhS9Ph2Dt",
        "outputId": "f09c635e-1faf-441b-b853-0669e854b805",
        "colab": {
          "base_uri": "https://localhost:8080/",
          "height": 282
        }
      },
      "source": [
        "# your code goes here\n",
        "density = df['rental_days'].plot(kind='density')\n",
        "density.axvline(df['rental_days'].mean(), color='red')"
      ],
      "execution_count": 9,
      "outputs": [
        {
          "output_type": "execute_result",
          "data": {
            "text/plain": [
              "<matplotlib.lines.Line2D at 0x7f22a552b790>"
            ]
          },
          "metadata": {},
          "execution_count": 9
        },
        {
          "output_type": "display_data",
          "data": {
            "image/png": "[encoded data removed]",
            "text/plain": [
              "<Figure size 432x288 with 1 Axes>"
            ]
          },
          "metadata": {
            "needs_background": "light"
          }
        }
      ]
    },
    {
      "cell_type": "code",
      "metadata": {
        "cell_type": "solution",
        "id": "I2bH39yQh2Dt"
      },
      "source": [
        "ax = df['rental_days'].plot(kind='density', figsize=(14,6))\n",
        "ax.axvline(df['rental_days'].mean(), color='red')"
      ],
      "execution_count": null,
      "outputs": []
    },
    {
      "cell_type": "markdown",
      "metadata": {
        "id": "aqyWFYNgh2Dt"
      },
      "source": [
        "![green-divider](https://user-images.githubusercontent.com/7065401/52071924-c003ad80-2562-11e9-8297-1c6595f8a7ff.png)\n",
        "\n",
        "### Add and calculate a new `film_daily_rental_rate` column\n",
        "\n",
        "This value should be the division of `film_rental_rate` by `film_rental_duration`."
      ]
    },
    {
      "cell_type": "code",
      "metadata": {
        "id": "xZurhZWbh2Du",
        "outputId": "73c4c271-c2b7-4b98-d671-22446bb573b9",
        "colab": {
          "base_uri": "https://localhost:8080/"
        }
      },
      "source": [
        "# your code goes here\n",
        "df['film_daily_rental_rate'] = df['film_rental_rate'] / df['film_rental_duration']\n",
        "df['film_daily_rental_rate'].head()"
      ],
      "execution_count": 11,
      "outputs": [
        {
          "output_type": "execute_result",
          "data": {
            "text/plain": [
              "rental_id\n",
              "1    0.427143\n",
              "2    0.427143\n",
              "3    0.427143\n",
              "4    0.165000\n",
              "5    0.598000\n",
              "Name: film_daily_rental_rate, dtype: float64"
            ]
          },
          "metadata": {},
          "execution_count": 11
        }
      ]
    },
    {
      "cell_type": "code",
      "metadata": {
        "cell_type": "solution",
        "id": "AKjnyjErh2Du"
      },
      "source": [
        "df['film_daily_rental_rate'] = df['film_rental_rate'] / df['film_rental_duration']\n",
        "\n",
        "df['film_daily_rental_rate'].head()"
      ],
      "execution_count": null,
      "outputs": []
    },
    {
      "cell_type": "markdown",
      "metadata": {
        "id": "_5ZFKemTh2Du"
      },
      "source": [
        "![green-divider](https://user-images.githubusercontent.com/7065401/52071924-c003ad80-2562-11e9-8297-1c6595f8a7ff.png)\n",
        "\n",
        "### Analyze the distribution of `film_daily_rental_rate`\n",
        "\n",
        "- Calculate the mean of `film_daily_rental_rate`.\n",
        "- Show a <b>density (KDE)</b> of `film_daily_rental_rate`."
      ]
    },
    {
      "cell_type": "code",
      "metadata": {
        "id": "LV68wcwTh2Du"
      },
      "source": [
        "# your code goes here\n",
        "mean_film_daily_rental_rate = df['film_daily_rental_rate'].mean()"
      ],
      "execution_count": 14,
      "outputs": []
    },
    {
      "cell_type": "code",
      "metadata": {
        "cell_type": "solution",
        "id": "A2IECeDjh2Du"
      },
      "source": [
        "df['film_daily_rental_rate'].mean()"
      ],
      "execution_count": null,
      "outputs": []
    },
    {
      "cell_type": "code",
      "metadata": {
        "id": "5v-anpCch2Du",
        "outputId": "61419688-0ce2-471f-83f1-c402dba7f54a",
        "colab": {
          "base_uri": "https://localhost:8080/",
          "height": 282
        }
      },
      "source": [
        "# your code goes here\n",
        "ax = df['film_daily_rental_rate'].plot(kind='density')\n",
        "ax.axvline(mean_film_daily_rental_rate, color='red')"
      ],
      "execution_count": 15,
      "outputs": [
        {
          "output_type": "execute_result",
          "data": {
            "text/plain": [
              "<matplotlib.lines.Line2D at 0x7f22a3cbbad0>"
            ]
          },
          "metadata": {},
          "execution_count": 15
        },
        {
          "output_type": "display_data",
          "data": {
            "image/png": "[encoded data removed]",
            "text/plain": [
              "<Figure size 432x288 with 1 Axes>"
            ]
          },
          "metadata": {
            "needs_background": "light"
          }
        }
      ]
    },
    {
      "cell_type": "code",
      "metadata": {
        "cell_type": "solution",
        "id": "-oIekLwZh2Dv"
      },
      "source": [
        "ax = df['film_daily_rental_rate'].plot(kind='density', figsize=(14,6))\n",
        "ax.axvline(df['film_daily_rental_rate'].mean(), color='red')"
      ],
      "execution_count": null,
      "outputs": []
    },
    {
      "cell_type": "markdown",
      "metadata": {
        "id": "JO1t8sW8h2Dv"
      },
      "source": [
        "![green-divider](https://user-images.githubusercontent.com/7065401/52071924-c003ad80-2562-11e9-8297-1c6595f8a7ff.png)\n",
        "\n",
        "### List 10 films with the lowest daily rental rate"
      ]
    },
    {
      "cell_type": "code",
      "metadata": {
        "id": "cxdX60dbh2Dv",
        "outputId": "5a8210ea-1a05-4f02-9f35-0ec58d68129b",
        "colab": {
          "base_uri": "https://localhost:8080/",
          "height": 580
        }
      },
      "source": [
        "# your code goes here\n",
        "df.loc[df['film_daily_rental_rate'] == df['film_daily_rental_rate'].min()].head(10)"
      ],
      "execution_count": 18,
      "outputs": [
        {
          "output_type": "execute_result",
          "data": {
            "text/html": [
              "<div>\n",
              "<style scoped>\n",
              "    .dataframe tbody tr th:only-of-type {\n",
              "        vertical-align: middle;\n",
              "    }\n",
              "\n",
              "    .dataframe tbody tr th {\n",
              "        vertical-align: top;\n",
              "    }\n",
              "\n",
              "    .dataframe thead th {\n",
              "        text-align: right;\n",
              "    }\n",
              "</style>\n",
              "<table border=\"1\" class=\"dataframe\">\n",
              "  <thead>\n",
              "    <tr style=\"text-align: right;\">\n",
              "      <th></th>\n",
              "      <th>rental_date</th>\n",
              "      <th>return_date</th>\n",
              "      <th>customer_lastname</th>\n",
              "      <th>store_id</th>\n",
              "      <th>rental_store_city</th>\n",
              "      <th>film_title</th>\n",
              "      <th>film_rental_duration</th>\n",
              "      <th>film_rental_rate</th>\n",
              "      <th>film_replacement_cost</th>\n",
              "      <th>film_rating</th>\n",
              "      <th>rental_days</th>\n",
              "      <th>film_daily_rental_rate</th>\n",
              "    </tr>\n",
              "    <tr>\n",
              "      <th>rental_id</th>\n",
              "      <th></th>\n",
              "      <th></th>\n",
              "      <th></th>\n",
              "      <th></th>\n",
              "      <th></th>\n",
              "      <th></th>\n",
              "      <th></th>\n",
              "      <th></th>\n",
              "      <th></th>\n",
              "      <th></th>\n",
              "      <th></th>\n",
              "      <th></th>\n",
              "    </tr>\n",
              "  </thead>\n",
              "  <tbody>\n",
              "    <tr>\n",
              "      <th>18</th>\n",
              "      <td>2005-05-25 01:10:47</td>\n",
              "      <td>2005-05-31 06:35:47</td>\n",
              "      <td>MARTINEZ</td>\n",
              "      <td>1</td>\n",
              "      <td>Lethbridge</td>\n",
              "      <td>ROMAN PUNK</td>\n",
              "      <td>7</td>\n",
              "      <td>0.99</td>\n",
              "      <td>28.99</td>\n",
              "      <td>NC-17</td>\n",
              "      <td>6.0</td>\n",
              "      <td>0.141429</td>\n",
              "    </tr>\n",
              "    <tr>\n",
              "      <th>37</th>\n",
              "      <td>2005-05-25 04:44:31</td>\n",
              "      <td>2005-05-29 01:03:31</td>\n",
              "      <td>ELROD</td>\n",
              "      <td>2</td>\n",
              "      <td>Woodridge</td>\n",
              "      <td>BORROWERS BEDAZZLED</td>\n",
              "      <td>7</td>\n",
              "      <td>0.99</td>\n",
              "      <td>22.99</td>\n",
              "      <td>G</td>\n",
              "      <td>3.0</td>\n",
              "      <td>0.141429</td>\n",
              "    </tr>\n",
              "    <tr>\n",
              "      <th>48</th>\n",
              "      <td>2005-05-25 06:20:46</td>\n",
              "      <td>2005-06-02 05:42:46</td>\n",
              "      <td>CASTRO</td>\n",
              "      <td>1</td>\n",
              "      <td>Lethbridge</td>\n",
              "      <td>GUN BONNIE</td>\n",
              "      <td>7</td>\n",
              "      <td>0.99</td>\n",
              "      <td>27.99</td>\n",
              "      <td>G</td>\n",
              "      <td>7.0</td>\n",
              "      <td>0.141429</td>\n",
              "    </tr>\n",
              "    <tr>\n",
              "      <th>74</th>\n",
              "      <td>2005-05-25 11:09:48</td>\n",
              "      <td>2005-05-26 12:23:48</td>\n",
              "      <td>TERRY</td>\n",
              "      <td>2</td>\n",
              "      <td>Woodridge</td>\n",
              "      <td>GREEDY ROOTS</td>\n",
              "      <td>7</td>\n",
              "      <td>0.99</td>\n",
              "      <td>14.99</td>\n",
              "      <td>R</td>\n",
              "      <td>1.0</td>\n",
              "      <td>0.141429</td>\n",
              "    </tr>\n",
              "    <tr>\n",
              "      <th>76</th>\n",
              "      <td>2005-05-25 11:30:37</td>\n",
              "      <td>2005-06-03 12:00:37</td>\n",
              "      <td>SMITH</td>\n",
              "      <td>2</td>\n",
              "      <td>Woodridge</td>\n",
              "      <td>PATIENT SISTER</td>\n",
              "      <td>7</td>\n",
              "      <td>0.99</td>\n",
              "      <td>29.99</td>\n",
              "      <td>NC-17</td>\n",
              "      <td>9.0</td>\n",
              "      <td>0.141429</td>\n",
              "    </tr>\n",
              "    <tr>\n",
              "      <th>87</th>\n",
              "      <td>2005-05-25 13:52:43</td>\n",
              "      <td>2005-05-29 11:12:43</td>\n",
              "      <td>ROBERT</td>\n",
              "      <td>2</td>\n",
              "      <td>Woodridge</td>\n",
              "      <td>GANDHI KWAI</td>\n",
              "      <td>7</td>\n",
              "      <td>0.99</td>\n",
              "      <td>9.99</td>\n",
              "      <td>PG-13</td>\n",
              "      <td>3.0</td>\n",
              "      <td>0.141429</td>\n",
              "    </tr>\n",
              "    <tr>\n",
              "      <th>117</th>\n",
              "      <td>2005-05-25 19:30:46</td>\n",
              "      <td>2005-05-31 23:59:46</td>\n",
              "      <td>MILLER</td>\n",
              "      <td>2</td>\n",
              "      <td>Woodridge</td>\n",
              "      <td>VALENTINE VANISHING</td>\n",
              "      <td>7</td>\n",
              "      <td>0.99</td>\n",
              "      <td>9.99</td>\n",
              "      <td>PG-13</td>\n",
              "      <td>6.0</td>\n",
              "      <td>0.141429</td>\n",
              "    </tr>\n",
              "    <tr>\n",
              "      <th>133</th>\n",
              "      <td>2005-05-25 21:48:30</td>\n",
              "      <td>2005-05-30 00:26:30</td>\n",
              "      <td>GILBERT</td>\n",
              "      <td>1</td>\n",
              "      <td>Lethbridge</td>\n",
              "      <td>BORROWERS BEDAZZLED</td>\n",
              "      <td>7</td>\n",
              "      <td>0.99</td>\n",
              "      <td>22.99</td>\n",
              "      <td>G</td>\n",
              "      <td>4.0</td>\n",
              "      <td>0.141429</td>\n",
              "    </tr>\n",
              "    <tr>\n",
              "      <th>148</th>\n",
              "      <td>2005-05-26 00:25:23</td>\n",
              "      <td>2005-06-01 19:29:23</td>\n",
              "      <td>BURNS</td>\n",
              "      <td>2</td>\n",
              "      <td>Woodridge</td>\n",
              "      <td>UNFORGIVEN ZOOLANDER</td>\n",
              "      <td>7</td>\n",
              "      <td>0.99</td>\n",
              "      <td>15.99</td>\n",
              "      <td>PG</td>\n",
              "      <td>6.0</td>\n",
              "      <td>0.141429</td>\n",
              "    </tr>\n",
              "    <tr>\n",
              "      <th>158</th>\n",
              "      <td>2005-05-26 01:27:11</td>\n",
              "      <td>2005-06-03 00:30:11</td>\n",
              "      <td>NGO</td>\n",
              "      <td>1</td>\n",
              "      <td>Lethbridge</td>\n",
              "      <td>LIGHTS DEER</td>\n",
              "      <td>7</td>\n",
              "      <td>0.99</td>\n",
              "      <td>21.99</td>\n",
              "      <td>R</td>\n",
              "      <td>7.0</td>\n",
              "      <td>0.141429</td>\n",
              "    </tr>\n",
              "  </tbody>\n",
              "</table>\n",
              "</div>"
            ],
            "text/plain": [
              "                  rental_date  ... film_daily_rental_rate\n",
              "rental_id                      ...                       \n",
              "18        2005-05-25 01:10:47  ...               0.141429\n",
              "37        2005-05-25 04:44:31  ...               0.141429\n",
              "48        2005-05-25 06:20:46  ...               0.141429\n",
              "74        2005-05-25 11:09:48  ...               0.141429\n",
              "76        2005-05-25 11:30:37  ...               0.141429\n",
              "87        2005-05-25 13:52:43  ...               0.141429\n",
              "117       2005-05-25 19:30:46  ...               0.141429\n",
              "133       2005-05-25 21:48:30  ...               0.141429\n",
              "148       2005-05-26 00:25:23  ...               0.141429\n",
              "158       2005-05-26 01:27:11  ...               0.141429\n",
              "\n",
              "[10 rows x 12 columns]"
            ]
          },
          "metadata": {},
          "execution_count": 18
        }
      ]
    },
    {
      "cell_type": "code",
      "metadata": {
        "cell_type": "solution",
        "id": "gfP5l9H8h2Dv",
        "outputId": "3f388cf2-c048-4631-aa03-1d22763de4d1",
        "colab": {
          "base_uri": "https://localhost:8080/",
          "height": 580
        }
      },
      "source": [
        "df.loc[df['film_daily_rental_rate'] == df['film_daily_rental_rate'].min()].head(10)"
      ],
      "execution_count": 17,
      "outputs": [
        {
          "output_type": "execute_result",
          "data": {
            "text/html": [
              "<div>\n",
              "<style scoped>\n",
              "    .dataframe tbody tr th:only-of-type {\n",
              "        vertical-align: middle;\n",
              "    }\n",
              "\n",
              "    .dataframe tbody tr th {\n",
              "        vertical-align: top;\n",
              "    }\n",
              "\n",
              "    .dataframe thead th {\n",
              "        text-align: right;\n",
              "    }\n",
              "</style>\n",
              "<table border=\"1\" class=\"dataframe\">\n",
              "  <thead>\n",
              "    <tr style=\"text-align: right;\">\n",
              "      <th></th>\n",
              "      <th>rental_date</th>\n",
              "      <th>return_date</th>\n",
              "      <th>customer_lastname</th>\n",
              "      <th>store_id</th>\n",
              "      <th>rental_store_city</th>\n",
              "      <th>film_title</th>\n",
              "      <th>film_rental_duration</th>\n",
              "      <th>film_rental_rate</th>\n",
              "      <th>film_replacement_cost</th>\n",
              "      <th>film_rating</th>\n",
              "      <th>rental_days</th>\n",
              "      <th>film_daily_rental_rate</th>\n",
              "    </tr>\n",
              "    <tr>\n",
              "      <th>rental_id</th>\n",
              "      <th></th>\n",
              "      <th></th>\n",
              "      <th></th>\n",
              "      <th></th>\n",
              "      <th></th>\n",
              "      <th></th>\n",
              "      <th></th>\n",
              "      <th></th>\n",
              "      <th></th>\n",
              "      <th></th>\n",
              "      <th></th>\n",
              "      <th></th>\n",
              "    </tr>\n",
              "  </thead>\n",
              "  <tbody>\n",
              "    <tr>\n",
              "      <th>18</th>\n",
              "      <td>2005-05-25 01:10:47</td>\n",
              "      <td>2005-05-31 06:35:47</td>\n",
              "      <td>MARTINEZ</td>\n",
              "      <td>1</td>\n",
              "      <td>Lethbridge</td>\n",
              "      <td>ROMAN PUNK</td>\n",
              "      <td>7</td>\n",
              "      <td>0.99</td>\n",
              "      <td>28.99</td>\n",
              "      <td>NC-17</td>\n",
              "      <td>6.0</td>\n",
              "      <td>0.141429</td>\n",
              "    </tr>\n",
              "    <tr>\n",
              "      <th>37</th>\n",
              "      <td>2005-05-25 04:44:31</td>\n",
              "      <td>2005-05-29 01:03:31</td>\n",
              "      <td>ELROD</td>\n",
              "      <td>2</td>\n",
              "      <td>Woodridge</td>\n",
              "      <td>BORROWERS BEDAZZLED</td>\n",
              "      <td>7</td>\n",
              "      <td>0.99</td>\n",
              "      <td>22.99</td>\n",
              "      <td>G</td>\n",
              "      <td>3.0</td>\n",
              "      <td>0.141429</td>\n",
              "    </tr>\n",
              "    <tr>\n",
              "      <th>48</th>\n",
              "      <td>2005-05-25 06:20:46</td>\n",
              "      <td>2005-06-02 05:42:46</td>\n",
              "      <td>CASTRO</td>\n",
              "      <td>1</td>\n",
              "      <td>Lethbridge</td>\n",
              "      <td>GUN BONNIE</td>\n",
              "      <td>7</td>\n",
              "      <td>0.99</td>\n",
              "      <td>27.99</td>\n",
              "      <td>G</td>\n",
              "      <td>7.0</td>\n",
              "      <td>0.141429</td>\n",
              "    </tr>\n",
              "    <tr>\n",
              "      <th>74</th>\n",
              "      <td>2005-05-25 11:09:48</td>\n",
              "      <td>2005-05-26 12:23:48</td>\n",
              "      <td>TERRY</td>\n",
              "      <td>2</td>\n",
              "      <td>Woodridge</td>\n",
              "      <td>GREEDY ROOTS</td>\n",
              "      <td>7</td>\n",
              "      <td>0.99</td>\n",
              "      <td>14.99</td>\n",
              "      <td>R</td>\n",
              "      <td>1.0</td>\n",
              "      <td>0.141429</td>\n",
              "    </tr>\n",
              "    <tr>\n",
              "      <th>76</th>\n",
              "      <td>2005-05-25 11:30:37</td>\n",
              "      <td>2005-06-03 12:00:37</td>\n",
              "      <td>SMITH</td>\n",
              "      <td>2</td>\n",
              "      <td>Woodridge</td>\n",
              "      <td>PATIENT SISTER</td>\n",
              "      <td>7</td>\n",
              "      <td>0.99</td>\n",
              "      <td>29.99</td>\n",
              "      <td>NC-17</td>\n",
              "      <td>9.0</td>\n",
              "      <td>0.141429</td>\n",
              "    </tr>\n",
              "    <tr>\n",
              "      <th>87</th>\n",
              "      <td>2005-05-25 13:52:43</td>\n",
              "      <td>2005-05-29 11:12:43</td>\n",
              "      <td>ROBERT</td>\n",
              "      <td>2</td>\n",
              "      <td>Woodridge</td>\n",
              "      <td>GANDHI KWAI</td>\n",
              "      <td>7</td>\n",
              "      <td>0.99</td>\n",
              "      <td>9.99</td>\n",
              "      <td>PG-13</td>\n",
              "      <td>3.0</td>\n",
              "      <td>0.141429</td>\n",
              "    </tr>\n",
              "    <tr>\n",
              "      <th>117</th>\n",
              "      <td>2005-05-25 19:30:46</td>\n",
              "      <td>2005-05-31 23:59:46</td>\n",
              "      <td>MILLER</td>\n",
              "      <td>2</td>\n",
              "      <td>Woodridge</td>\n",
              "      <td>VALENTINE VANISHING</td>\n",
              "      <td>7</td>\n",
              "      <td>0.99</td>\n",
              "      <td>9.99</td>\n",
              "      <td>PG-13</td>\n",
              "      <td>6.0</td>\n",
              "      <td>0.141429</td>\n",
              "    </tr>\n",
              "    <tr>\n",
              "      <th>133</th>\n",
              "      <td>2005-05-25 21:48:30</td>\n",
              "      <td>2005-05-30 00:26:30</td>\n",
              "      <td>GILBERT</td>\n",
              "      <td>1</td>\n",
              "      <td>Lethbridge</td>\n",
              "      <td>BORROWERS BEDAZZLED</td>\n",
              "      <td>7</td>\n",
              "      <td>0.99</td>\n",
              "      <td>22.99</td>\n",
              "      <td>G</td>\n",
              "      <td>4.0</td>\n",
              "      <td>0.141429</td>\n",
              "    </tr>\n",
              "    <tr>\n",
              "      <th>148</th>\n",
              "      <td>2005-05-26 00:25:23</td>\n",
              "      <td>2005-06-01 19:29:23</td>\n",
              "      <td>BURNS</td>\n",
              "      <td>2</td>\n",
              "      <td>Woodridge</td>\n",
              "      <td>UNFORGIVEN ZOOLANDER</td>\n",
              "      <td>7</td>\n",
              "      <td>0.99</td>\n",
              "      <td>15.99</td>\n",
              "      <td>PG</td>\n",
              "      <td>6.0</td>\n",
              "      <td>0.141429</td>\n",
              "    </tr>\n",
              "    <tr>\n",
              "      <th>158</th>\n",
              "      <td>2005-05-26 01:27:11</td>\n",
              "      <td>2005-06-03 00:30:11</td>\n",
              "      <td>NGO</td>\n",
              "      <td>1</td>\n",
              "      <td>Lethbridge</td>\n",
              "      <td>LIGHTS DEER</td>\n",
              "      <td>7</td>\n",
              "      <td>0.99</td>\n",
              "      <td>21.99</td>\n",
              "      <td>R</td>\n",
              "      <td>7.0</td>\n",
              "      <td>0.141429</td>\n",
              "    </tr>\n",
              "  </tbody>\n",
              "</table>\n",
              "</div>"
            ],
            "text/plain": [
              "                  rental_date  ... film_daily_rental_rate\n",
              "rental_id                      ...                       \n",
              "18        2005-05-25 01:10:47  ...               0.141429\n",
              "37        2005-05-25 04:44:31  ...               0.141429\n",
              "48        2005-05-25 06:20:46  ...               0.141429\n",
              "74        2005-05-25 11:09:48  ...               0.141429\n",
              "76        2005-05-25 11:30:37  ...               0.141429\n",
              "87        2005-05-25 13:52:43  ...               0.141429\n",
              "117       2005-05-25 19:30:46  ...               0.141429\n",
              "133       2005-05-25 21:48:30  ...               0.141429\n",
              "148       2005-05-26 00:25:23  ...               0.141429\n",
              "158       2005-05-26 01:27:11  ...               0.141429\n",
              "\n",
              "[10 rows x 12 columns]"
            ]
          },
          "metadata": {},
          "execution_count": 17
        }
      ]
    },
    {
      "cell_type": "markdown",
      "metadata": {
        "id": "B08tr67Bh2Dv"
      },
      "source": [
        "![green-divider](https://user-images.githubusercontent.com/7065401/52071924-c003ad80-2562-11e9-8297-1c6595f8a7ff.png)\n",
        "\n",
        "### List 10 films with the highest daily rental rate"
      ]
    },
    {
      "cell_type": "code",
      "metadata": {
        "id": "uvH6tDkMh2Dw",
        "outputId": "9425147a-879e-47a5-ecf7-ef2ae04c4e00",
        "colab": {
          "base_uri": "https://localhost:8080/",
          "height": 580
        }
      },
      "source": [
        "# your code goes here\n",
        "df.loc[df['film_daily_rental_rate'] == df['film_daily_rental_rate'].max()].head(10)"
      ],
      "execution_count": 19,
      "outputs": [
        {
          "output_type": "execute_result",
          "data": {
            "text/html": [
              "<div>\n",
              "<style scoped>\n",
              "    .dataframe tbody tr th:only-of-type {\n",
              "        vertical-align: middle;\n",
              "    }\n",
              "\n",
              "    .dataframe tbody tr th {\n",
              "        vertical-align: top;\n",
              "    }\n",
              "\n",
              "    .dataframe thead th {\n",
              "        text-align: right;\n",
              "    }\n",
              "</style>\n",
              "<table border=\"1\" class=\"dataframe\">\n",
              "  <thead>\n",
              "    <tr style=\"text-align: right;\">\n",
              "      <th></th>\n",
              "      <th>rental_date</th>\n",
              "      <th>return_date</th>\n",
              "      <th>customer_lastname</th>\n",
              "      <th>store_id</th>\n",
              "      <th>rental_store_city</th>\n",
              "      <th>film_title</th>\n",
              "      <th>film_rental_duration</th>\n",
              "      <th>film_rental_rate</th>\n",
              "      <th>film_replacement_cost</th>\n",
              "      <th>film_rating</th>\n",
              "      <th>rental_days</th>\n",
              "      <th>film_daily_rental_rate</th>\n",
              "    </tr>\n",
              "    <tr>\n",
              "      <th>rental_id</th>\n",
              "      <th></th>\n",
              "      <th></th>\n",
              "      <th></th>\n",
              "      <th></th>\n",
              "      <th></th>\n",
              "      <th></th>\n",
              "      <th></th>\n",
              "      <th></th>\n",
              "      <th></th>\n",
              "      <th></th>\n",
              "      <th></th>\n",
              "      <th></th>\n",
              "    </tr>\n",
              "  </thead>\n",
              "  <tbody>\n",
              "    <tr>\n",
              "      <th>13</th>\n",
              "      <td>2005-05-25 00:22:55</td>\n",
              "      <td>2005-05-30 04:28:55</td>\n",
              "      <td>MCWHORTER</td>\n",
              "      <td>1</td>\n",
              "      <td>Lethbridge</td>\n",
              "      <td>KING EVOLUTION</td>\n",
              "      <td>3</td>\n",
              "      <td>4.99</td>\n",
              "      <td>24.99</td>\n",
              "      <td>NC-17</td>\n",
              "      <td>5.0</td>\n",
              "      <td>1.663333</td>\n",
              "    </tr>\n",
              "    <tr>\n",
              "      <th>40</th>\n",
              "      <td>2005-05-25 05:09:04</td>\n",
              "      <td>2005-05-27 23:12:04</td>\n",
              "      <td>YEE</td>\n",
              "      <td>1</td>\n",
              "      <td>Lethbridge</td>\n",
              "      <td>MINDS TRUMAN</td>\n",
              "      <td>3</td>\n",
              "      <td>4.99</td>\n",
              "      <td>22.99</td>\n",
              "      <td>PG-13</td>\n",
              "      <td>2.0</td>\n",
              "      <td>1.663333</td>\n",
              "    </tr>\n",
              "    <tr>\n",
              "      <th>68</th>\n",
              "      <td>2005-05-25 09:47:31</td>\n",
              "      <td>2005-05-31 10:20:31</td>\n",
              "      <td>ORTIZ</td>\n",
              "      <td>2</td>\n",
              "      <td>Woodridge</td>\n",
              "      <td>TEEN APOLLO</td>\n",
              "      <td>3</td>\n",
              "      <td>4.99</td>\n",
              "      <td>25.99</td>\n",
              "      <td>G</td>\n",
              "      <td>6.0</td>\n",
              "      <td>1.663333</td>\n",
              "    </tr>\n",
              "    <tr>\n",
              "      <th>106</th>\n",
              "      <td>2005-05-25 18:18:19</td>\n",
              "      <td>2005-06-04 00:01:19</td>\n",
              "      <td>AUSTIN</td>\n",
              "      <td>2</td>\n",
              "      <td>Woodridge</td>\n",
              "      <td>SHOW LORD</td>\n",
              "      <td>3</td>\n",
              "      <td>4.99</td>\n",
              "      <td>24.99</td>\n",
              "      <td>PG-13</td>\n",
              "      <td>9.0</td>\n",
              "      <td>1.663333</td>\n",
              "    </tr>\n",
              "    <tr>\n",
              "      <th>116</th>\n",
              "      <td>2005-05-25 19:27:51</td>\n",
              "      <td>2005-05-26 16:23:51</td>\n",
              "      <td>GARCIA</td>\n",
              "      <td>1</td>\n",
              "      <td>Lethbridge</td>\n",
              "      <td>WIFE TURN</td>\n",
              "      <td>3</td>\n",
              "      <td>4.99</td>\n",
              "      <td>27.99</td>\n",
              "      <td>NC-17</td>\n",
              "      <td>0.0</td>\n",
              "      <td>1.663333</td>\n",
              "    </tr>\n",
              "    <tr>\n",
              "      <th>124</th>\n",
              "      <td>2005-05-25 20:46:11</td>\n",
              "      <td>2005-05-30 00:47:11</td>\n",
              "      <td>MENDOZA</td>\n",
              "      <td>1</td>\n",
              "      <td>Lethbridge</td>\n",
              "      <td>BACKLASH UNDEFEATED</td>\n",
              "      <td>3</td>\n",
              "      <td>4.99</td>\n",
              "      <td>24.99</td>\n",
              "      <td>PG-13</td>\n",
              "      <td>4.0</td>\n",
              "      <td>1.663333</td>\n",
              "    </tr>\n",
              "    <tr>\n",
              "      <th>135</th>\n",
              "      <td>2005-05-25 21:58:58</td>\n",
              "      <td>2005-06-03 17:50:58</td>\n",
              "      <td>ROYAL</td>\n",
              "      <td>1</td>\n",
              "      <td>Lethbridge</td>\n",
              "      <td>AMERICAN CIRCUS</td>\n",
              "      <td>3</td>\n",
              "      <td>4.99</td>\n",
              "      <td>17.99</td>\n",
              "      <td>R</td>\n",
              "      <td>8.0</td>\n",
              "      <td>1.663333</td>\n",
              "    </tr>\n",
              "    <tr>\n",
              "      <th>152</th>\n",
              "      <td>2005-05-26 00:41:10</td>\n",
              "      <td>2005-06-03 06:05:10</td>\n",
              "      <td>MORGAN</td>\n",
              "      <td>1</td>\n",
              "      <td>Lethbridge</td>\n",
              "      <td>MIDSUMMER GROUNDHOG</td>\n",
              "      <td>3</td>\n",
              "      <td>4.99</td>\n",
              "      <td>27.99</td>\n",
              "      <td>G</td>\n",
              "      <td>8.0</td>\n",
              "      <td>1.663333</td>\n",
              "    </tr>\n",
              "    <tr>\n",
              "      <th>155</th>\n",
              "      <td>2005-05-26 01:15:05</td>\n",
              "      <td>2005-06-01 00:03:05</td>\n",
              "      <td>BARBEE</td>\n",
              "      <td>2</td>\n",
              "      <td>Woodridge</td>\n",
              "      <td>BEHAVIOR RUNAWAY</td>\n",
              "      <td>3</td>\n",
              "      <td>4.99</td>\n",
              "      <td>20.99</td>\n",
              "      <td>PG</td>\n",
              "      <td>5.0</td>\n",
              "      <td>1.663333</td>\n",
              "    </tr>\n",
              "    <tr>\n",
              "      <th>163</th>\n",
              "      <td>2005-05-26 02:26:23</td>\n",
              "      <td>2005-06-04 06:36:23</td>\n",
              "      <td>GRAHAM</td>\n",
              "      <td>1</td>\n",
              "      <td>Lethbridge</td>\n",
              "      <td>KISSING DOLLS</td>\n",
              "      <td>3</td>\n",
              "      <td>4.99</td>\n",
              "      <td>9.99</td>\n",
              "      <td>R</td>\n",
              "      <td>9.0</td>\n",
              "      <td>1.663333</td>\n",
              "    </tr>\n",
              "  </tbody>\n",
              "</table>\n",
              "</div>"
            ],
            "text/plain": [
              "                  rental_date  ... film_daily_rental_rate\n",
              "rental_id                      ...                       \n",
              "13        2005-05-25 00:22:55  ...               1.663333\n",
              "40        2005-05-25 05:09:04  ...               1.663333\n",
              "68        2005-05-25 09:47:31  ...               1.663333\n",
              "106       2005-05-25 18:18:19  ...               1.663333\n",
              "116       2005-05-25 19:27:51  ...               1.663333\n",
              "124       2005-05-25 20:46:11  ...               1.663333\n",
              "135       2005-05-25 21:58:58  ...               1.663333\n",
              "152       2005-05-26 00:41:10  ...               1.663333\n",
              "155       2005-05-26 01:15:05  ...               1.663333\n",
              "163       2005-05-26 02:26:23  ...               1.663333\n",
              "\n",
              "[10 rows x 12 columns]"
            ]
          },
          "metadata": {},
          "execution_count": 19
        }
      ]
    },
    {
      "cell_type": "code",
      "metadata": {
        "cell_type": "solution",
        "id": "LV1WxtCKh2Dw"
      },
      "source": [
        "df.loc[df['film_daily_rental_rate'] == df['film_daily_rental_rate'].max()].head(10)"
      ],
      "execution_count": null,
      "outputs": []
    },
    {
      "cell_type": "markdown",
      "metadata": {
        "id": "2ZmbAsRph2Dw"
      },
      "source": [
        "![green-divider](https://user-images.githubusercontent.com/7065401/52071924-c003ad80-2562-11e9-8297-1c6595f8a7ff.png)\n",
        "\n",
        "### How many rentals were made in Lethbridge city?"
      ]
    },
    {
      "cell_type": "code",
      "metadata": {
        "id": "aqzXoTiqh2Dw",
        "outputId": "892bea98-6b38-462d-9648-0b9f8184bdfd",
        "colab": {
          "base_uri": "https://localhost:8080/"
        }
      },
      "source": [
        "# your code goes here\n",
        "len(df.loc[df['rental_store_city'] == 'Lethbridge'])"
      ],
      "execution_count": 20,
      "outputs": [
        {
          "output_type": "execute_result",
          "data": {
            "text/plain": [
              "7923"
            ]
          },
          "metadata": {},
          "execution_count": 20
        }
      ]
    },
    {
      "cell_type": "code",
      "metadata": {
        "cell_type": "solution",
        "id": "Uiyigzych2Dx"
      },
      "source": [
        "df.loc[df['rental_store_city'] == 'Lethbridge'].shape[0]"
      ],
      "execution_count": null,
      "outputs": []
    },
    {
      "cell_type": "markdown",
      "metadata": {
        "id": "9ApetEMKh2Dx"
      },
      "source": [
        "![green-divider](https://user-images.githubusercontent.com/7065401/52071924-c003ad80-2562-11e9-8297-1c6595f8a7ff.png)\n",
        "\n",
        "### How many rentals of each film rating were made in Lethbridge city?\n",
        "\n",
        "Show a <b>bar plot</b> with each film rating count."
      ]
    },
    {
      "cell_type": "code",
      "metadata": {
        "id": "PrU4LTvZh2Dx",
        "outputId": "b0407507-8a7d-4f05-f6e6-d7d176ea9940",
        "colab": {
          "base_uri": "https://localhost:8080/"
        }
      },
      "source": [
        "# your code goes here\n",
        "df.loc[df['rental_store_city'] == 'Lethbridge', 'film_rating'].value_counts()"
      ],
      "execution_count": 21,
      "outputs": [
        {
          "output_type": "execute_result",
          "data": {
            "text/plain": [
              "PG-13    1849\n",
              "NC-17    1625\n",
              "R        1537\n",
              "PG       1535\n",
              "G        1377\n",
              "Name: film_rating, dtype: int64"
            ]
          },
          "metadata": {},
          "execution_count": 21
        }
      ]
    },
    {
      "cell_type": "code",
      "metadata": {
        "id": "iWQDyjOV72_J",
        "outputId": "07b22dd7-1907-475d-ac87-54a343c3a03b",
        "colab": {
          "base_uri": "https://localhost:8080/",
          "height": 303
        }
      },
      "source": [
        "df.loc[df['rental_store_city'] == 'Lethbridge', 'film_rating'].value_counts().plot(kind='bar')"
      ],
      "execution_count": 22,
      "outputs": [
        {
          "output_type": "execute_result",
          "data": {
            "text/plain": [
              "<matplotlib.axes._subplots.AxesSubplot at 0x7f22a3be5e90>"
            ]
          },
          "metadata": {},
          "execution_count": 22
        },
        {
          "output_type": "display_data",
          "data": {
            "image/png": "[encoded data removed]",
            "text/plain": [
              "<Figure size 432x288 with 1 Axes>"
            ]
          },
          "metadata": {
            "needs_background": "light"
          }
        }
      ]
    },
    {
      "cell_type": "code",
      "metadata": {
        "cell_type": "solution",
        "id": "fxVkdH03h2Dx"
      },
      "source": [
        "df.loc[df['rental_store_city'] == 'Lethbridge', 'film_rating'].value_counts()"
      ],
      "execution_count": null,
      "outputs": []
    },
    {
      "cell_type": "code",
      "metadata": {
        "cell_type": "solution",
        "id": "9_Eo-aA0h2Dx"
      },
      "source": [
        "df.loc[df['rental_store_city'] == 'Lethbridge', 'film_rating'].value_counts().plot(kind='bar', figsize=(14,6))"
      ],
      "execution_count": null,
      "outputs": []
    },
    {
      "cell_type": "markdown",
      "metadata": {
        "id": "iUSKNS0Dh2Dy"
      },
      "source": [
        "![green-divider](https://user-images.githubusercontent.com/7065401/52071924-c003ad80-2562-11e9-8297-1c6595f8a7ff.png)\n",
        "\n",
        "### How many rentals were made in Woodridge city with rental duration higher than 5 days?"
      ]
    },
    {
      "cell_type": "code",
      "metadata": {
        "id": "0FDf4iuQh2Dy",
        "outputId": "cba8360e-d0f2-4a49-e7e6-77d6feeb3510",
        "colab": {
          "base_uri": "https://localhost:8080/"
        }
      },
      "source": [
        "# your code goes here\n",
        "df.loc[(df['rental_store_city'] == 'Woodridge') & (df['film_rental_duration'] > 5)].shape[0]"
      ],
      "execution_count": 23,
      "outputs": [
        {
          "output_type": "execute_result",
          "data": {
            "text/plain": [
              "3186"
            ]
          },
          "metadata": {},
          "execution_count": 23
        }
      ]
    },
    {
      "cell_type": "code",
      "metadata": {
        "cell_type": "solution",
        "id": "i9D-8Wozh2Dy"
      },
      "source": [
        "df.loc[(df['rental_store_city'] == 'Woodridge') & (df['film_rental_duration'] > 5)].shape[0]"
      ],
      "execution_count": null,
      "outputs": []
    },
    {
      "cell_type": "markdown",
      "metadata": {
        "id": "9BuGfDI1h2Dy"
      },
      "source": [
        "![green-divider](https://user-images.githubusercontent.com/7065401/52071924-c003ad80-2562-11e9-8297-1c6595f8a7ff.png)\n",
        "\n",
        "### How many rentals were made at the store with id 2 or with replacement cost lower than 10.99 USD?"
      ]
    },
    {
      "cell_type": "code",
      "metadata": {
        "id": "zn36MYqoh2Dy",
        "outputId": "e60d5f27-0507-4df9-c3ce-81e086796d25",
        "colab": {
          "base_uri": "https://localhost:8080/"
        }
      },
      "source": [
        "# your code goes here\n",
        "df.loc[(df['store_id'] == 2) | (df['film_replacement_cost'] < 10.99)].shape[0]"
      ],
      "execution_count": 24,
      "outputs": [
        {
          "output_type": "execute_result",
          "data": {
            "text/plain": [
              "8444"
            ]
          },
          "metadata": {},
          "execution_count": 24
        }
      ]
    },
    {
      "cell_type": "code",
      "metadata": {
        "cell_type": "solution",
        "id": "0TbdaIMsh2Dy"
      },
      "source": [
        "df.loc[(df['store_id'] == 2) | (df['film_replacement_cost'] < 10.99)].shape[0]"
      ],
      "execution_count": null,
      "outputs": []
    },
    {
      "cell_type": "markdown",
      "metadata": {
        "id": "T2V0bFo-h2Dy"
      },
      "source": [
        "![purple-divider](https://user-images.githubusercontent.com/7065401/52071927-c1cd7100-2562-11e9-908a-dde91ba14e59.png)"
      ]
    }
  ]
}